{
 "cells": [
  {
   "cell_type": "markdown",
   "metadata": {},
   "source": [
    "# Collaboration and Competition\n",
    "\n",
    "---\n",
    "\n",
    "In this notebook, you will learn how to use the Unity ML-Agents environment for the third project of the [Deep Reinforcement Learning Nanodegree](https://www.udacity.com/course/deep-reinforcement-learning-nanodegree--nd893) program.\n",
    "\n",
    "### 1. Start the Environment\n",
    "\n",
    "We begin by importing the necessary packages.  If the code cell below returns an error, please revisit the project instructions to double-check that you have installed [Unity ML-Agents](https://github.com/Unity-Technologies/ml-agents/blob/master/docs/Installation.md) and [NumPy](http://www.numpy.org/)."
   ]
  },
  {
   "cell_type": "code",
   "execution_count": 1,
   "metadata": {},
   "outputs": [],
   "source": [
    "from unityagents import UnityEnvironment\n",
    "import numpy as np"
   ]
  },
  {
   "cell_type": "markdown",
   "metadata": {},
   "source": [
    "Next, we will start the environment!  **_Before running the code cell below_**, change the `file_name` parameter to match the location of the Unity environment that you downloaded.\n",
    "\n",
    "- **Mac**: `\"path/to/Tennis.app\"`\n",
    "- **Windows** (x86): `\"path/to/Tennis_Windows_x86/Tennis.exe\"`\n",
    "- **Windows** (x86_64): `\"path/to/Tennis_Windows_x86_64/Tennis.exe\"`\n",
    "- **Linux** (x86): `\"path/to/Tennis_Linux/Tennis.x86\"`\n",
    "- **Linux** (x86_64): `\"path/to/Tennis_Linux/Tennis.x86_64\"`\n",
    "- **Linux** (x86, headless): `\"path/to/Tennis_Linux_NoVis/Tennis.x86\"`\n",
    "- **Linux** (x86_64, headless): `\"path/to/Tennis_Linux_NoVis/Tennis.x86_64\"`\n",
    "\n",
    "For instance, if you are using a Mac, then you downloaded `Tennis.app`.  If this file is in the same folder as the notebook, then the line below should appear as follows:\n",
    "```\n",
    "env = UnityEnvironment(file_name=\"Tennis.app\")\n",
    "```"
   ]
  },
  {
   "cell_type": "code",
   "execution_count": 2,
   "metadata": {},
   "outputs": [
    {
     "name": "stderr",
     "output_type": "stream",
     "text": [
      "INFO:unityagents:\n",
      "'Academy' started successfully!\n",
      "Unity Academy name: Academy\n",
      "        Number of Brains: 1\n",
      "        Number of External Brains : 1\n",
      "        Lesson number : 0\n",
      "        Reset Parameters :\n",
      "\t\t\n",
      "Unity brain name: TennisBrain\n",
      "        Number of Visual Observations (per agent): 0\n",
      "        Vector Observation space type: continuous\n",
      "        Vector Observation space size (per agent): 8\n",
      "        Number of stacked Vector Observation: 3\n",
      "        Vector Action space type: continuous\n",
      "        Vector Action space size (per agent): 2\n",
      "        Vector Action descriptions: , \n"
     ]
    }
   ],
   "source": [
    "env = UnityEnvironment(file_name=\"./Tennis_Windows_x86_64/Tennis.exe\")"
   ]
  },
  {
   "cell_type": "markdown",
   "metadata": {},
   "source": [
    "Environments contain **_brains_** which are responsible for deciding the actions of their associated agents. Here we check for the first brain available, and set it as the default brain we will be controlling from Python."
   ]
  },
  {
   "cell_type": "code",
   "execution_count": 3,
   "metadata": {},
   "outputs": [],
   "source": [
    "# get the default brain\n",
    "brain_name = env.brain_names[0]\n",
    "brain = env.brains[brain_name]"
   ]
  },
  {
   "cell_type": "markdown",
   "metadata": {},
   "source": [
    "### 2. Examine the State and Action Spaces\n",
    "\n",
    "In this environment, two agents control rackets to bounce a ball over a net. If an agent hits the ball over the net, it receives a reward of +0.1.  If an agent lets a ball hit the ground or hits the ball out of bounds, it receives a reward of -0.01.  Thus, the goal of each agent is to keep the ball in play.\n",
    "\n",
    "The observation space consists of 8 variables corresponding to the position and velocity of the ball and racket. Two continuous actions are available, corresponding to movement toward (or away from) the net, and jumping. \n",
    "\n",
    "Run the code cell below to print some information about the environment."
   ]
  },
  {
   "cell_type": "code",
   "execution_count": 4,
   "metadata": {},
   "outputs": [
    {
     "name": "stdout",
     "output_type": "stream",
     "text": [
      "Number of agents: 2\n",
      "Size of each action: 2\n",
      "There are 2 agents. Each observes a state with length: 24\n",
      "The state for the first agent looks like: [ 0.          0.          0.          0.          0.          0.\n",
      "  0.          0.          0.          0.          0.          0.\n",
      "  0.          0.          0.          0.         -6.65278625 -1.5\n",
      " -0.          0.          6.83172083  6.         -0.          0.        ]\n"
     ]
    }
   ],
   "source": [
    "# reset the environment\n",
    "env_info = env.reset(train_mode=True)[brain_name]\n",
    "\n",
    "# number of agents \n",
    "num_agents = len(env_info.agents)\n",
    "print('Number of agents:', num_agents)\n",
    "\n",
    "# size of each action\n",
    "action_size = brain.vector_action_space_size\n",
    "print('Size of each action:', action_size)\n",
    "\n",
    "# examine the state space \n",
    "states = env_info.vector_observations\n",
    "state_size = states.shape[1]\n",
    "print('There are {} agents. Each observes a state with length: {}'.format(states.shape[0], state_size))\n",
    "print('The state for the first agent looks like:', states[0])"
   ]
  },
  {
   "cell_type": "markdown",
   "metadata": {},
   "source": [
    "### 3. Take Random Actions in the Environment\n",
    "\n",
    "In the next code cell, you will learn how to use the Python API to control the agents and receive feedback from the environment.\n",
    "\n",
    "Once this cell is executed, you will watch the agents' performance, if they select actions at random with each time step.  A window should pop up that allows you to observe the agents.\n",
    "\n",
    "Of course, as part of the project, you'll have to change the code so that the agents are able to use their experiences to gradually choose better actions when interacting with the environment!"
   ]
  },
  {
   "cell_type": "code",
   "execution_count": 5,
   "metadata": {},
   "outputs": [
    {
     "name": "stdout",
     "output_type": "stream",
     "text": [
      "Score (max over agents) from episode 1: 0.0\n",
      "Score (max over agents) from episode 2: 0.09000000171363354\n",
      "Score (max over agents) from episode 3: 0.0\n",
      "Score (max over agents) from episode 4: 0.0\n",
      "Score (max over agents) from episode 5: 0.0\n"
     ]
    }
   ],
   "source": [
    "for i in range(1, 6):                                      # play game for 5 episodes\n",
    "    env_info = env.reset(train_mode=False)[brain_name]     # reset the environment    \n",
    "    states = env_info.vector_observations                  # get the current state (for each agent)\n",
    "    scores = np.zeros(num_agents)                          # initialize the score (for each agent)\n",
    "    while True:\n",
    "        actions = np.random.randn(num_agents, action_size) # select an action (for each agent)\n",
    "        actions = np.clip(actions, -1, 1)                  # all actions between -1 and 1\n",
    "        env_info = env.step(actions)[brain_name]           # send all actions to tne environment\n",
    "        next_states = env_info.vector_observations         # get next state (for each agent)\n",
    "        rewards = env_info.rewards                         # get reward (for each agent)\n",
    "        dones = env_info.local_done                        # see if episode finished\n",
    "        scores += env_info.rewards                         # update the score (for each agent)\n",
    "        states = next_states                               # roll over states to next time step\n",
    "        if np.any(dones):                                  # exit loop if episode finished\n",
    "            break\n",
    "    print('Score (max over agents) from episode {}: {}'.format(i, np.max(scores)))"
   ]
  },
  {
   "cell_type": "markdown",
   "metadata": {},
   "source": [
    "When finished, you can close the environment."
   ]
  },
  {
   "cell_type": "code",
   "execution_count": null,
   "metadata": {},
   "outputs": [],
   "source": [
    "env.close()"
   ]
  },
  {
   "cell_type": "markdown",
   "metadata": {},
   "source": [
    "### 4. It's Your Turn!\n",
    "\n",
    "Now it's your turn to train your own agent to solve the environment!  When training the environment, set `train_mode=True`, so that the line for resetting the environment looks like the following:\n",
    "```python\n",
    "env_info = env.reset(train_mode=True)[brain_name]\n",
    "```"
   ]
  },
  {
   "cell_type": "code",
   "execution_count": 1,
   "outputs": [],
   "source": [
    "from unityagents import UnityEnvironment\n",
    "import numpy as np\n",
    "from mddpg_agent import MADDPG\n",
    "from collections import deque\n",
    "import torch\n",
    "from ddpg_agent import Agents"
   ],
   "metadata": {
    "collapsed": false,
    "pycharm": {
     "name": "#%%\n"
    }
   }
  },
  {
   "cell_type": "code",
   "execution_count": 2,
   "outputs": [
    {
     "name": "stderr",
     "output_type": "stream",
     "text": [
      "INFO:unityagents:\n",
      "'Academy' started successfully!\n",
      "Unity Academy name: Academy\n",
      "        Number of Brains: 1\n",
      "        Number of External Brains : 1\n",
      "        Lesson number : 0\n",
      "        Reset Parameters :\n",
      "\t\t\n",
      "Unity brain name: TennisBrain\n",
      "        Number of Visual Observations (per agent): 0\n",
      "        Vector Observation space type: continuous\n",
      "        Vector Observation space size (per agent): 8\n",
      "        Number of stacked Vector Observation: 3\n",
      "        Vector Action space type: continuous\n",
      "        Vector Action space size (per agent): 2\n",
      "        Vector Action descriptions: , \n"
     ]
    }
   ],
   "source": [
    "env = UnityEnvironment(file_name=\"./Tennis_Windows_x86_64/Tennis.exe\")"
   ],
   "metadata": {
    "collapsed": false,
    "pycharm": {
     "name": "#%%\n"
    }
   }
  },
  {
   "cell_type": "code",
   "execution_count": 3,
   "outputs": [
    {
     "name": "stdout",
     "output_type": "stream",
     "text": [
      "Number of agents: 2\n",
      "Size of each action: 2\n",
      "There are 2 agents. Each observes a state with length: 24\n",
      "The state for the first agent looks like: [ 0.          0.          0.          0.          0.          0.\n",
      "  0.          0.          0.          0.          0.          0.\n",
      "  0.          0.          0.          0.         -6.65278625 -1.5\n",
      " -0.          0.          6.83172083  6.         -0.          0.        ]\n"
     ]
    }
   ],
   "source": [
    "# get the default brain\n",
    "brain_name = env.brain_names[0]\n",
    "brain = env.brains[brain_name]\n",
    "\n",
    "# reset the environment\n",
    "env_info = env.reset(train_mode=True)[brain_name]\n",
    "\n",
    "# number of agents\n",
    "num_agents = len(env_info.agents)\n",
    "print('Number of agents:', num_agents)\n",
    "\n",
    "# size of each action\n",
    "action_size = brain.vector_action_space_size\n",
    "print('Size of each action:', action_size)\n",
    "\n",
    "# examine the state space\n",
    "states = env_info.vector_observations\n",
    "state_size = states.shape[1]\n",
    "print('There are {} agents. Each observes a state with length: {}'.format(states.shape[0], state_size))\n",
    "print('The state for the first agent looks like:', states[0])"
   ],
   "metadata": {
    "collapsed": false,
    "pycharm": {
     "name": "#%%\n"
    }
   }
  },
  {
   "cell_type": "code",
   "execution_count": 4,
   "outputs": [],
   "source": [
    "agents = Agents(state_size=state_size, action_size=action_size, num_agents=len(env_info.agents), random_seed=5)"
   ],
   "metadata": {
    "collapsed": false,
    "pycharm": {
     "name": "#%%\n"
    }
   }
  },
  {
   "cell_type": "code",
   "execution_count": 5,
   "outputs": [
    {
     "name": "stderr",
     "output_type": "stream",
     "text": [
      "f:\\courses\\udacity-deepreinforcementlearning\\deep-reinforcement-learning-master\\venv\\lib\\site-packages\\torch\\nn\\functional.py:995: UserWarning: nn.functional.tanh is deprecated. Use torch.tanh instead.\n",
      "  warnings.warn(\"nn.functional.tanh is deprecated. Use torch.tanh instead.\")\n"
     ]
    },
    {
     "name": "stdout",
     "output_type": "stream",
     "text": [
      "Episode 10... Average Score: 0.02\n",
      "Episode 20... Average Score: 0.01\n",
      "Episode 30... Average Score: 0.01\n",
      "Episode 40... Average Score: 0.01\n",
      "Episode 50... Average Score: 0.02\n",
      "Episode 60... Average Score: 0.01\n",
      "Episode 70... Average Score: 0.02\n",
      "Episode 80... Average Score: 0.02\n",
      "Episode 90... Average Score: 0.01\n",
      "Episode 100... Average Score: 0.02\n",
      "Episode 110... Average Score: 0.01\n",
      "Episode 120... Average Score: 0.02\n",
      "Episode 130... Average Score: 0.02\n",
      "Episode 140... Average Score: 0.01\n",
      "Episode 150... Average Score: 0.01\n",
      "Episode 160... Average Score: 0.01\n",
      "Episode 170... Average Score: 0.01\n",
      "Episode 180... Average Score: 0.01\n",
      "Episode 190... Average Score: 0.01\n",
      "Episode 200... Average Score: 0.01\n",
      "Episode 210... Average Score: 0.01\n",
      "Episode 220... Average Score: 0.01\n",
      "Episode 230... Average Score: 0.01\n",
      "Episode 240... Average Score: 0.01\n",
      "Episode 250... Average Score: 0.01\n",
      "Episode 260... Average Score: 0.01\n",
      "Episode 270... Average Score: 0.01\n",
      "Episode 280... Average Score: 0.01\n",
      "Episode 290... Average Score: 0.01\n",
      "Episode 300... Average Score: 0.02\n",
      "Episode 310... Average Score: 0.02\n",
      "Episode 320... Average Score: 0.02\n",
      "Episode 330... Average Score: 0.03\n",
      "Episode 340... Average Score: 0.03\n",
      "Episode 350... Average Score: 0.03\n",
      "Episode 360... Average Score: 0.03\n",
      "Episode 370... Average Score: 0.04\n",
      "Episode 380... Average Score: 0.04\n",
      "Episode 390... Average Score: 0.04\n",
      "Episode 400... Average Score: 0.04\n",
      "Episode 410... Average Score: 0.04\n",
      "Episode 420... Average Score: 0.04\n",
      "Episode 430... Average Score: 0.04\n",
      "Episode 440... Average Score: 0.03\n",
      "Episode 450... Average Score: 0.03\n",
      "Episode 460... Average Score: 0.03\n",
      "Episode 470... Average Score: 0.03\n",
      "Episode 480... Average Score: 0.02\n",
      "Episode 490... Average Score: 0.02\n",
      "Episode 500... Average Score: 0.02\n",
      "Episode 510... Average Score: 0.02\n",
      "Episode 520... Average Score: 0.02\n",
      "Episode 530... Average Score: 0.02\n",
      "Episode 540... Average Score: 0.02\n",
      "Episode 550... Average Score: 0.02\n",
      "Episode 560... Average Score: 0.02\n",
      "Episode 570... Average Score: 0.03\n",
      "Episode 580... Average Score: 0.03\n",
      "Episode 590... Average Score: 0.03\n",
      "Episode 600... Average Score: 0.03\n",
      "Episode 610... Average Score: 0.03\n",
      "Episode 620... Average Score: 0.03\n",
      "Episode 630... Average Score: 0.04\n",
      "Episode 640... Average Score: 0.04\n",
      "Episode 650... Average Score: 0.04\n",
      "Episode 660... Average Score: 0.04\n",
      "Episode 670... Average Score: 0.04\n",
      "Episode 680... Average Score: 0.04\n",
      "Episode 690... Average Score: 0.05\n",
      "Episode 700... Average Score: 0.06\n",
      "Episode 710... Average Score: 0.06\n",
      "Episode 720... Average Score: 0.07\n",
      "Episode 730... Average Score: 0.07\n",
      "Episode 740... Average Score: 0.08\n",
      "Episode 750... Average Score: 0.09\n",
      "Episode 760... Average Score: 0.09\n",
      "Episode 770... Average Score: 0.09\n",
      "Episode 780... Average Score: 0.09\n",
      "Episode 790... Average Score: 0.10\n",
      "Episode 800... Average Score: 0.10\n",
      "Episode 810... Average Score: 0.10\n",
      "Episode 820... Average Score: 0.10\n",
      "Episode 830... Average Score: 0.10\n",
      "Episode 840... Average Score: 0.10\n",
      "Episode 850... Average Score: 0.10\n",
      "Episode 860... Average Score: 0.10\n",
      "Episode 870... Average Score: 0.11\n",
      "Episode 880... Average Score: 0.11\n",
      "Episode 890... Average Score: 0.11\n",
      "Episode 900... Average Score: 0.11\n",
      "Episode 910... Average Score: 0.11\n",
      "Episode 920... Average Score: 0.11\n",
      "Episode 930... Average Score: 0.11\n",
      "Episode 940... Average Score: 0.11\n",
      "Episode 950... Average Score: 0.11\n",
      "Episode 960... Average Score: 0.11\n",
      "Episode 970... Average Score: 0.11\n",
      "Episode 980... Average Score: 0.12\n",
      "Episode 990... Average Score: 0.13\n",
      "Episode 1000... Average Score: 0.13\n",
      "Episode 1010... Average Score: 0.13\n",
      "Episode 1020... Average Score: 0.14\n",
      "Episode 1030... Average Score: 0.13\n",
      "Episode 1040... Average Score: 0.13\n",
      "Episode 1050... Average Score: 0.14\n",
      "Episode 1060... Average Score: 0.15\n",
      "Episode 1070... Average Score: 0.16\n",
      "Episode 1080... Average Score: 0.15\n",
      "Episode 1090... Average Score: 0.16\n",
      "Episode 1100... Average Score: 0.18\n",
      "Episode 1110... Average Score: 0.18\n",
      "Episode 1120... Average Score: 0.18\n",
      "Episode 1130... Average Score: 0.19\n",
      "Episode 1140... Average Score: 0.19\n",
      "Episode 1150... Average Score: 0.20\n",
      "Episode 1160... Average Score: 0.20\n",
      "Episode 1170... Average Score: 0.20\n",
      "Episode 1180... Average Score: 0.20\n",
      "Episode 1190... Average Score: 0.20\n",
      "Episode 1200... Average Score: 0.19\n",
      "Episode 1210... Average Score: 0.20\n",
      "Episode 1220... Average Score: 0.20\n",
      "Episode 1230... Average Score: 0.21\n",
      "Episode 1240... Average Score: 0.21\n",
      "Episode 1250... Average Score: 0.20\n",
      "Episode 1260... Average Score: 0.19\n",
      "Episode 1270... Average Score: 0.19\n",
      "Episode 1280... Average Score: 0.19\n",
      "Episode 1290... Average Score: 0.18\n",
      "Episode 1300... Average Score: 0.18\n",
      "Episode 1310... Average Score: 0.17\n",
      "Episode 1320... Average Score: 0.16\n",
      "Episode 1330... Average Score: 0.15\n",
      "Episode 1340... Average Score: 0.15\n",
      "Episode 1350... Average Score: 0.16\n",
      "Episode 1360... Average Score: 0.15\n",
      "Episode 1370... Average Score: 0.15\n",
      "Episode 1380... Average Score: 0.14\n",
      "Episode 1390... Average Score: 0.15\n",
      "Episode 1400... Average Score: 0.15\n",
      "Episode 1410... Average Score: 0.15\n",
      "Episode 1420... Average Score: 0.15\n",
      "Episode 1430... Average Score: 0.16\n",
      "Episode 1440... Average Score: 0.16\n",
      "Episode 1450... Average Score: 0.16\n",
      "Episode 1460... Average Score: 0.17\n",
      "Episode 1470... Average Score: 0.18\n",
      "Episode 1480... Average Score: 0.18\n",
      "Episode 1490... Average Score: 0.18\n",
      "Episode 1500... Average Score: 0.17\n",
      "Episode 1510... Average Score: 0.17\n",
      "Episode 1520... Average Score: 0.16\n",
      "Episode 1530... Average Score: 0.16\n",
      "Episode 1540... Average Score: 0.16\n",
      "Episode 1550... Average Score: 0.16\n",
      "Episode 1560... Average Score: 0.17\n",
      "Episode 1570... Average Score: 0.17\n",
      "Episode 1580... Average Score: 0.17\n",
      "Episode 1590... Average Score: 0.17\n",
      "Episode 1600... Average Score: 0.18\n",
      "Episode 1610... Average Score: 0.18\n",
      "Episode 1620... Average Score: 0.19\n",
      "Episode 1630... Average Score: 0.19\n",
      "Episode 1640... Average Score: 0.20\n",
      "Episode 1650... Average Score: 0.20\n",
      "Episode 1660... Average Score: 0.21\n",
      "Episode 1670... Average Score: 0.21\n",
      "Episode 1680... Average Score: 0.22\n",
      "Episode 1690... Average Score: 0.24\n",
      "Episode 1700... Average Score: 0.26\n",
      "Episode 1710... Average Score: 0.28\n",
      "Episode 1720... Average Score: 0.28\n",
      "Episode 1730... Average Score: 0.30\n",
      "Episode 1740... Average Score: 0.32\n",
      "Episode 1750... Average Score: 0.33\n",
      "Episode 1760... Average Score: 0.33\n",
      "Episode 1770... Average Score: 0.33\n",
      "Episode 1780... Average Score: 0.32\n",
      "Episode 1790... Average Score: 0.32\n",
      "Episode 1800... Average Score: 0.31\n",
      "Episode 1810... Average Score: 0.29\n",
      "Episode 1820... Average Score: 0.28\n",
      "Episode 1830... Average Score: 0.26\n",
      "Episode 1840... Average Score: 0.23\n",
      "Episode 1850... Average Score: 0.22\n",
      "Episode 1860... Average Score: 0.21\n",
      "Episode 1870... Average Score: 0.21\n",
      "Episode 1880... Average Score: 0.21\n",
      "Episode 1890... Average Score: 0.20\n",
      "Episode 1900... Average Score: 0.20\n",
      "Episode 1910... Average Score: 0.21\n",
      "Episode 1920... Average Score: 0.21\n",
      "Episode 1930... Average Score: 0.22\n",
      "Episode 1940... Average Score: 0.25\n",
      "Episode 1950... Average Score: 0.25\n",
      "Episode 1960... Average Score: 0.28\n",
      "Episode 1970... Average Score: 0.28\n",
      "Episode 1980... Average Score: 0.29\n",
      "Episode 1990... Average Score: 0.28\n",
      "Episode 2000... Average Score: 0.29\n",
      "Episode 2010... Average Score: 0.27\n",
      "Episode 2020... Average Score: 0.27\n",
      "Episode 2030... Average Score: 0.27\n",
      "Episode 2040... Average Score: 0.25\n",
      "Episode 2050... Average Score: 0.24\n",
      "Episode 2060... Average Score: 0.21\n",
      "Episode 2070... Average Score: 0.24\n",
      "Episode 2080... Average Score: 0.24\n",
      "Episode 2090... Average Score: 0.27\n",
      "Episode 2100... Average Score: 0.30\n",
      "Episode 2110... Average Score: 0.33\n",
      "Episode 2120... Average Score: 0.35\n",
      "Episode 2130... Average Score: 0.37\n",
      "Episode 2140... Average Score: 0.43\n",
      "Episode 2150... Average Score: 0.48\n",
      "\n",
      "Environment solved in 2055 episodes... Average Score: 0.50\n"
     ]
    }
   ],
   "source": [
    "def maddpg(n_episodes=3000, max_t=1000, print_every=10):\n",
    "    scores_deque = deque(maxlen=100)\n",
    "    scores = []\n",
    "\n",
    "    for i_episode in range(1, n_episodes+1):\n",
    "#         print(i_episode)\n",
    "        env_info = env.reset(train_mode=True)[brain_name]\n",
    "        agents.reset()\n",
    "        states = env_info.vector_observations\n",
    "        score = np.zeros(num_agents)\n",
    "\n",
    "        for t in range(max_t):\n",
    "            actions = agents.act(states)\n",
    "\n",
    "            env_info = env.step(actions)[brain_name]\n",
    "            next_states = env_info.vector_observations             # get the next states\n",
    "            rewards = env_info.rewards                             # get the rewards\n",
    "            dones = env_info.local_done                            # see if the episode has finished for any agent\n",
    "\n",
    "            agents.step(states, actions, rewards, next_states, dones)\n",
    "\n",
    "            states = next_states\n",
    "            score += rewards\n",
    "            if np.any(dones):\n",
    "                break\n",
    "\n",
    "        scores_deque.append(np.max(score))\n",
    "        scores.append(np.max(score))\n",
    "\n",
    "        if i_episode % print_every == 0:\n",
    "            print('\\rEpisode {}... Average Score: {:.2f}'.format(i_episode, np.mean(scores_deque)))\n",
    "\n",
    "        if np.mean(scores_deque) >= 0.5:\n",
    "            print('\\nEnvironment solved in {:d} episodes... Average Score: {:.2f}'.format(i_episode - 100, np.mean(scores_deque)))\n",
    "            torch.save(agents.actor_local.state_dict(), 'checkpoint_actor.pth')\n",
    "            torch.save(agents.critic_local.state_dict(), 'checkpoint_critic.pth')\n",
    "            break\n",
    "\n",
    "    return scores\n",
    "\n",
    "scores = maddpg()"
   ],
   "metadata": {
    "collapsed": false,
    "pycharm": {
     "name": "#%%\n"
    }
   }
  },
  {
   "cell_type": "code",
   "execution_count": 6,
   "outputs": [],
   "source": [
    "torch.save(agents.actor_local.state_dict(), './checkpoint_actor.pth')\n",
    "torch.save(agents.critic_local.state_dict(), './checkpoint_critic.pth')"
   ],
   "metadata": {
    "collapsed": false,
    "pycharm": {
     "name": "#%%\n"
    }
   }
  },
  {
   "cell_type": "code",
   "execution_count": 12,
   "outputs": [
    {
     "data": {
      "text/plain": "<Figure size 576x576 with 1 Axes>",
      "image/png": "[encoded data removed]"
     },
     "metadata": {
      "needs_background": "light"
     },
     "output_type": "display_data"
    }
   ],
   "source": [
    "import pandas as pd\n",
    "import matplotlib.pyplot as plt\n",
    "\n",
    "fig = plt.figure(figsize=(8, 8))\n",
    "ax = fig.add_subplot(111)\n",
    "plt.plot(np.arange(1, len(scores)+1), scores)\n",
    "plt.plot(np.arange(1, len(scores)+1), pd.Series(scores).rolling(100).mean().fillna(0))\n",
    "plt.title('Reward vs. Episode')\n",
    "plt.ylabel('Reward')\n",
    "plt.xlabel('Episode')\n",
    "plt.grid(True)\n",
    "plt.show()"
   ],
   "metadata": {
    "collapsed": false,
    "pycharm": {
     "name": "#%%\n"
    }
   }
  },
  {
   "cell_type": "code",
   "execution_count": null,
   "outputs": [],
   "source": [
    "def play(agents, env, n_episodes=1000, max_t=300):\n",
    "    scores = []\n",
    "\n",
    "    for i_episode in range(1, n_episodes+1):\n",
    "        env_info = env.reset(train_mode=False)[brain_name]\n",
    "\n",
    "        states = env_info.vector_observations\n",
    "        num_agents = len(env_info.agents)\n",
    "        score = np.zeros(num_agents)\n",
    "        agents.reset()\n",
    "\n",
    "        for t in range(max_t):\n",
    "            actions = agents.act(states, add_noise=False)\n",
    "\n",
    "            env_info = env.step(actions)[brain_name]\n",
    "            next_states = env_info.vector_observations             # get the next states\n",
    "            rewards = env_info.rewards                             # get the rewards\n",
    "            dones = env_info.local_done                            # see if the episode has finished for any agent\n",
    "\n",
    "            agents.step(states, actions, rewards, next_states, dones)\n",
    "\n",
    "            states = next_states\n",
    "            score += np.squeeze(rewards)\n",
    "            if np.any(dones):\n",
    "                break\n",
    "\n",
    "        scores.append(np.max(score))\n",
    "\n",
    "    return scores"
   ],
   "metadata": {
    "collapsed": false,
    "pycharm": {
     "name": "#%%\n"
    }
   }
  },
  {
   "cell_type": "code",
   "execution_count": 14,
   "outputs": [],
   "source": [
    "p_scores = play(agents, env, n_episodes=1, max_t=150)"
   ],
   "metadata": {
    "collapsed": false,
    "pycharm": {
     "name": "#%%\n"
    }
   }
  },
  {
   "cell_type": "code",
   "execution_count": 15,
   "outputs": [],
   "source": [
    "env.close()"
   ],
   "metadata": {
    "collapsed": false,
    "pycharm": {
     "name": "#%%\n"
    }
   }
  },
  {
   "cell_type": "code",
   "execution_count": null,
   "outputs": [],
   "source": [],
   "metadata": {
    "collapsed": false,
    "pycharm": {
     "name": "#%%\n"
    }
   }
  }
 ],
 "metadata": {
  "kernelspec": {
   "display_name": "Python 3",
   "language": "python",
   "name": "python3"
  },
  "language_info": {
   "codemirror_mode": {
    "name": "ipython",
    "version": 3
   },
   "file_extension": ".py",
   "mimetype": "text/x-python",
   "name": "python",
   "nbconvert_exporter": "python",
   "pygments_lexer": "ipython3",
   "version": "3.6.4"
  }
 },
 "nbformat": 4,
 "nbformat_minor": 2
}